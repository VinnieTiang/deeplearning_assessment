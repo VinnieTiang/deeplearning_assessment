{
  "cells": [
    {
      "cell_type": "markdown",
      "id": "86bdf6dd",
      "metadata": {
        "id": "86bdf6dd"
      },
      "source": [
        "Vinnie Tiang Wen Ying 22004876\n",
        "# Section C: Deep Learning Mini Implementation Notebook\n",
        "\n"
      ]
    },
    {
      "cell_type": "markdown",
      "id": "IOu8mLIk2Szb",
      "metadata": {
        "id": "IOu8mLIk2Szb"
      },
      "source": [
        "# Deep Learning Concept: Backpropagation\n",
        "\n",
        "Backpropagation is the core learning algorithm used to train neural networks. Throughout the model training process, backpropagation will calculate how much each weight and bias in the network contributes to the total error (loss), then adjusts them to reduce that error, in order to get better prediction output. The loss here is the difference between predicted output and the actual output.\n",
        "\n",
        "The backpropagation process\n",
        "1. **Forward Pass**: Make a prediction using current weights and biases.\n",
        "2. **Loss Calculation**: Measure the difference between predicted and actual output.\n",
        "3. **Backward Pass**: Compute gradients of the loss with respect to each weight and bias.\n",
        "4. **Gradient Descent**: Update the weight and bias to reduce the loss.\n",
        "\n"
      ]
    },
    {
      "cell_type": "markdown",
      "id": "91c14e16",
      "metadata": {
        "id": "91c14e16"
      },
      "source": [
        "## Concept Illustration of How a Neural Network **Learns a Simple Formula** using Backpropagation\n",
        "\n",
        "In this implementation, I will demo using a very simple network architecture (a single-layer perceptron with no hidden layers)\n",
        "\n",
        "*   Input layer: 1 input value (𝑥)\n",
        "*   Neuron: 1 neuron with 1 weight (𝑤) and 1 bias (𝑏)\n",
        "*   Output layer: 1 output value (𝑦̂) (prediction)\n",
        "\n",
        "\n",
        "\n",
        "I will demo on how this single neuron use backpropagation to learn a linear function\n",
        "\n",
        "**y = 3x − 2**\n",
        "\n",
        "where given the input 𝑥, the model should be able to predict the output 3𝑥-2.\n",
        "\n",
        "Even the simplest neural network can learn useful relationships when trained properly."
      ]
    },
    {
      "cell_type": "code",
      "execution_count": 1,
      "id": "c66gj7Rl925A",
      "metadata": {
        "id": "c66gj7Rl925A"
      },
      "outputs": [],
      "source": [
        "import numpy as np\n",
        "import matplotlib.pyplot as plt"
      ]
    },
    {
      "cell_type": "markdown",
      "id": "xRNDTbzNC-CT",
      "metadata": {
        "id": "xRNDTbzNC-CT"
      },
      "source": [
        "## Initialize Parameters\n"
      ]
    },
    {
      "cell_type": "code",
      "execution_count": 2,
      "id": "mtTRjpVlAWTt",
      "metadata": {
        "colab": {
          "base_uri": "https://localhost:8080/"
        },
        "id": "mtTRjpVlAWTt",
        "outputId": "2be03170-ddea-4551-9a98-034e824d93f2"
      },
      "outputs": [
        {
          "name": "stdout",
          "output_type": "stream",
          "text": [
            "Initial weight: 0.4967\n",
            "Initial bias: -0.1383\n",
            "\n",
            "\n",
            "What we want to learn now:\n",
            "Given input: x = 2.0\n",
            "Target output: y = 4.00\n"
          ]
        }
      ],
      "source": [
        "# Dataset: learning y = 3x - 2\n",
        "X = 2.0                 # Single input for now, x = 2\n",
        "y_target = 3 * X - 2    # Target: y = 4\n",
        "\n",
        "# Initialize weight, bias, learning rate\n",
        "np.random.seed(42)\n",
        "w = np.random.randn() # weight\n",
        "b = np.random.randn() # bias\n",
        "lr = 0.01   # Learning rate\n",
        "\n",
        "print(f\"Initial weight: {w:.4f}\")\n",
        "print(f\"Initial bias: {b:.4f}\")\n",
        "print(\"\\n\")\n",
        "print(f\"What we want to learn now:\")\n",
        "print(f\"Given input: x = {X}\")\n",
        "print(f\"Target output: y = {y_target:.2f}\")"
      ]
    },
    {
      "cell_type": "markdown",
      "id": "5NBUm1UuAc0Y",
      "metadata": {
        "id": "5NBUm1UuAc0Y"
      },
      "source": [
        "## Step 1 - Forward Pass"
      ]
    },
    {
      "cell_type": "code",
      "execution_count": 3,
      "id": "xZjatetPBSC_",
      "metadata": {
        "colab": {
          "base_uri": "https://localhost:8080/"
        },
        "id": "xZjatetPBSC_",
        "outputId": "f95d2c06-5cbc-452b-b674-1e31b0863f7a"
      },
      "outputs": [
        {
          "name": "stdout",
          "output_type": "stream",
          "text": [
            "Predicted y: 0.8552\n",
            "Target y: 4.0000\n"
          ]
        }
      ],
      "source": [
        "# STEP 1: Forward pass to compute prediction\n",
        "y_pred = w * X + b\n",
        "\n",
        "print(f\"Predicted y: {y_pred:.4f}\")\n",
        "print(f\"Target y: {y_target:.4f}\")"
      ]
    },
    {
      "cell_type": "markdown",
      "id": "Amyt1CUHBqFb",
      "metadata": {
        "id": "Amyt1CUHBqFb"
      },
      "source": [
        "## Step 2 - Loss Calculation (Mean Squared Error)"
      ]
    },
    {
      "cell_type": "markdown",
      "id": "mwS9Mc1FPgSY",
      "metadata": {
        "id": "mwS9Mc1FPgSY"
      },
      "source": [
        "We use **Mean Squared Error (MSE)** as our loss function.\n",
        "\n",
        "MSE calculate the average squared difference between the predicted output (`ŷ`) and the true output (`y`).  \n",
        "- If predicted output far from the target, loss will be large.\n",
        "- If predicted output close to the target, loss will be small.\n",
        "\n",
        "Our Goal: minimize loss value, so model make better predictions."
      ]
    },
    {
      "cell_type": "code",
      "execution_count": 4,
      "id": "1K4DcQbwBpKs",
      "metadata": {
        "colab": {
          "base_uri": "https://localhost:8080/"
        },
        "id": "1K4DcQbwBpKs",
        "outputId": "2affff63-4db0-4610-ed6a-4f65a7eb49cd"
      },
      "outputs": [
        {
          "name": "stdout",
          "output_type": "stream",
          "text": [
            "Loss: 9.8900\n",
            "The lower the loss value, the better the prediction is.\n"
          ]
        }
      ],
      "source": [
        "# STEP 2: Compute loss using MSE\n",
        "loss = np.mean((y_target - y_pred) ** 2)\n",
        "print(f\"Loss: {loss:.4f}\")\n",
        "print (f\"The lower the loss value, the better the prediction is.\")"
      ]
    },
    {
      "cell_type": "markdown",
      "id": "5Y566QtpGka3",
      "metadata": {
        "id": "5Y566QtpGka3"
      },
      "source": [
        "## Step 3: Backward Pass"
      ]
    },
    {
      "cell_type": "markdown",
      "id": "sOVf5hPuQjnv",
      "metadata": {
        "id": "sOVf5hPuQjnv"
      },
      "source": [
        "Since the loss is high, we need to improve the model by adjusting the weight `w` and bias `b`.\n",
        "\n",
        "We use backpropagation, which tells us how much each parameter contributed to the error, using calculus (**chain rule**).\n",
        "\n",
        "---\n",
        "\n",
        "We break down the effect of each parameter step by step:\n",
        "\n",
        "First, we calculate the gradient of the loss with respect to the predicted output:\n",
        "```\n",
        "dL/d𝑦̂ = -2(y-𝑦̂)\n",
        "#This comes from the derivative of the MSE loss: L=(y-𝑦̂)^2\n",
        "\n",
        "```\n",
        "Then, we compute how the predicted output changes with respect to the weight:\n",
        "```\n",
        "d𝑦̂/dw = x\n",
        "```\n",
        "Using chain rule, we combine and get:\n",
        "\n",
        "```\n",
        "dL/dw = dL/d𝑦̂ × d𝑦̂/dw\n",
        "= -2(y-𝑦̂) × x\n",
        "```\n",
        "\n",
        "Similarly, the predicted output changes with respect to the bias:\n",
        "```\n",
        "d𝑦̂/db = 1\n",
        "```\n",
        "So the gradient of the loss with respect to the bias is:\n",
        "\n",
        "\n",
        "```\n",
        "dL/db = dL/d𝑦̂ × d𝑦̂/db  \n",
        "      = -2(y - 𝑦̂) × 1  \n",
        "      = -2(y - 𝑦̂)\n",
        "```\n",
        "\n"
      ]
    },
    {
      "cell_type": "code",
      "execution_count": 5,
      "id": "GuV2OfC0GnfO",
      "metadata": {
        "colab": {
          "base_uri": "https://localhost:8080/"
        },
        "id": "GuV2OfC0GnfO",
        "outputId": "c8b19c7c-12a8-4100-aa1e-258e4ce41ce3"
      },
      "outputs": [
        {
          "name": "stdout",
          "output_type": "stream",
          "text": [
            "Gradient with respect to weight (dw): -12.5793\n",
            "Gradient with respect to bias   (db): -6.2897\n"
          ]
        }
      ],
      "source": [
        "# STEP 3: Backpropagation (Compute gradients)\n",
        "dL_dy = -2 * (y_target - y_pred)  # Gradient of loss with respect to prediction, dL/dŷ from MSE\n",
        "dw = np.sum(dL_dy * X)          # dL/dw using Chain Rule\n",
        "db = np.sum(dL_dy)              # dL/db using Chain Rule\n",
        "\n",
        "print(f\"Gradient with respect to weight (dw): {dw:.4f}\")\n",
        "print(f\"Gradient with respect to bias   (db): {db:.4f}\")"
      ]
    },
    {
      "cell_type": "markdown",
      "id": "fdZqoU0zGt6Z",
      "metadata": {
        "id": "fdZqoU0zGt6Z"
      },
      "source": [
        "These gradients tell us how much each parameter affects the loss.\n",
        "In gradient descent, we have to always update the parameter in the opposite direction of the gradient.\n",
        "- If the gradient is positive, means increasing the parameter increases the loss. So we reduce the parameter.\n",
        "- If the gradient is negative, means increasing the parameter reduces the loss. So we increase the parameter.\n",
        "\n",
        "This helps us to move towards lower loss values.\n"
      ]
    },
    {
      "cell_type": "markdown",
      "id": "D_5-ln7uG0KH",
      "metadata": {
        "id": "D_5-ln7uG0KH"
      },
      "source": [
        "## Step 4: Gradient Descent"
      ]
    },
    {
      "cell_type": "markdown",
      "id": "GeVSUI6VUdOI",
      "metadata": {
        "id": "GeVSUI6VUdOI"
      },
      "source": [
        "In gradient descent, we always move opposite to the gradient to minimize the loss."
      ]
    },
    {
      "cell_type": "markdown",
      "id": "RfzCZhq8BEG6",
      "metadata": {
        "id": "RfzCZhq8BEG6"
      },
      "source": [
        "One key thing to mention here is the **learning rate (lr)**.\n",
        "\n",
        "It controls how big a step the model takes when updating the weights and bias during training, and thus controls how fast or slow the model will learn.\n",
        "\n",
        "- If learning rate is too large, the model might overshoot and fail to converge.\n",
        "- If learning rate too small, training will be very slow and might get stuck in local minima.\n",
        "\n",
        "In step 1, I had set lr = 0.01.\n",
        "\n",
        "This means we update the weight and bias using 1% of the gradient value at every step. This balances the learning as it will not make the updates too aggressive.\n",
        "\n"
      ]
    },
    {
      "cell_type": "code",
      "execution_count": 6,
      "id": "Br3Ui-VDGwgp",
      "metadata": {
        "colab": {
          "base_uri": "https://localhost:8080/"
        },
        "id": "Br3Ui-VDGwgp",
        "outputId": "0e7c55c4-e0e2-44c5-951e-26fe119ef2bf"
      },
      "outputs": [
        {
          "name": "stdout",
          "output_type": "stream",
          "text": [
            "\n",
            "Updated weight: 0.6225\n",
            "Updated bias:   -0.0754\n",
            "\n",
            "Comparison Before and After the First Backpropagation Process\n",
            "Weight:     0.4967 → 0.6225\n",
            "Bias:       -0.1383 → -0.0754\n",
            "Prediction: 0.8552 → 1.1696, (we aim to get closer to target y = 4.0000)\n",
            "Loss:       9.8900 → 8.0109, (loss is reducing)\n"
          ]
        }
      ],
      "source": [
        "## Step 4: Update Parameters using Gradient Descent\n",
        "\n",
        "# Before updating\n",
        "w_before = w\n",
        "b_before = b\n",
        "y_pred_before = y_pred\n",
        "loss_before = np.mean((y_target - y_pred_before) ** 2)\n",
        "\n",
        "# In gradient descent, we always move opposite to the gradient to minimize the loss\n",
        "w -= lr * dw\n",
        "b -= lr * db\n",
        "\n",
        "# After updating\n",
        "y_pred_after = w * X + b\n",
        "loss_after = np.mean((y_target - y_pred_after) ** 2)\n",
        "\n",
        "# Print updated values\n",
        "print(f\"\\nUpdated weight: {w:.4f}\")\n",
        "print(f\"Updated bias:   {b:.4f}\")\n",
        "\n",
        "# Compare before and after\n",
        "print(\"\\nComparison Before and After the First Backpropagation Process\")\n",
        "print(f\"Weight:     {w_before:.4f} → {w:.4f}\")\n",
        "print(f\"Bias:       {b_before:.4f} → {b:.4f}\")\n",
        "print(f\"Prediction: {y_pred_before:.4f} → {y_pred_after:.4f}, (we aim to get closer to target y = {y_target:.4f})\")\n",
        "print(f\"Loss:       {loss_before:.4f} → {loss_after:.4f}, (loss is reducing)\")\n"
      ]
    },
    {
      "cell_type": "markdown",
      "id": "dDuxEO1DG72D",
      "metadata": {
        "id": "dDuxEO1DG72D"
      },
      "source": [
        "The model learns by adjusting its parameters to reduce the error.\n",
        "\n"
      ]
    },
    {
      "cell_type": "markdown",
      "id": "r4vTLoZsG-lN",
      "metadata": {
        "id": "r4vTLoZsG-lN"
      },
      "source": [
        "## Let's see how the Model learns in Actual Training Loop (Multiple Epochs)\n",
        "Every epoch:\n",
        "1. Takes input x\n",
        "2. Computes ŷ = w·x + b (forward pass)\n",
        "3. Compares with true y using MSE loss\n",
        "4. Calculates gradients (backpropagation)\n",
        "5. Updates w and b using gradient descent"
      ]
    },
    {
      "cell_type": "code",
      "execution_count": 7,
      "id": "11SScO56HZ1N",
      "metadata": {
        "colab": {
          "base_uri": "https://localhost:8080/"
        },
        "id": "11SScO56HZ1N",
        "outputId": "5911ee16-3ebc-40b2-a103-a7cbcd6cf25b"
      },
      "outputs": [
        {
          "name": "stdout",
          "output_type": "stream",
          "text": [
            "Epoch   0 | Loss: 22.4229 | w: 0.7226 | b: -0.0754\n",
            "Epoch 100 | Loss: 0.6024 | w: 2.5325 | b: -0.6673\n",
            "Epoch 200 | Loss: 0.1819 | w: 2.7431 | b: -1.2676\n",
            "Epoch 300 | Loss: 0.0549 | w: 2.8588 | b: -1.5975\n",
            "Epoch 400 | Loss: 0.0166 | w: 2.9224 | b: -1.7788\n",
            "Epoch 500 | Loss: 0.0050 | w: 2.9574 | b: -1.8785\n",
            "Epoch 599 | Loss: 0.0015 | w: 2.9764 | b: -1.9328\n"
          ]
        }
      ],
      "source": [
        "# Prepare full training dataset\n",
        "X = np.array([0, 1, 2, 3, 4], dtype=float)\n",
        "y_target = 3 * X - 2 # Target output: y = 3x - 2\n",
        "\n",
        "# Reinitialize weight and bias\n",
        "np.random.seed(42)\n",
        "w = np.random.randn()\n",
        "b = np.random.randn()\n",
        "losses = []\n",
        "\n",
        "# Training loop\n",
        "for epoch in range(600):\n",
        "    # Step 1: Forward pass\n",
        "    y_pred = w * X + b\n",
        "\n",
        "    # Step 2: Loss calculation\n",
        "    loss = np.mean((y_target - y_pred) ** 2)\n",
        "    losses.append(loss)\n",
        "\n",
        "    # Step 3: Backpropagation\n",
        "    dL_dy = -2 * (y_target - y_pred) / len(X)\n",
        "    dw = np.sum(dL_dy * X)\n",
        "    db = np.sum(dL_dy)\n",
        "\n",
        "    # Step 4: Gradient Descent\n",
        "    w -= lr * dw\n",
        "    b -= lr * db\n",
        "\n",
        "    # Print every 100 epochs\n",
        "    if epoch % 100 == 0 or epoch == 599:\n",
        "        print(f\"Epoch {epoch:3d} | Loss: {loss:.4f} | w: {w:.4f} | b: {b:.4f}\")\n"
      ]
    },
    {
      "cell_type": "markdown",
      "id": "sCJwnRKUC89u",
      "metadata": {
        "id": "sCJwnRKUC89u"
      },
      "source": [
        "- We can see at Epoch 0, it is a random start, so we get bad loss.\n",
        "\n",
        "- Throughout the Epoch to 599th Epoch, we get decreasing loss value, the weight and bias become closer and closer to the ideal w=3, b=-2.\n"
      ]
    },
    {
      "cell_type": "markdown",
      "id": "wPN5275kXisD",
      "metadata": {
        "id": "wPN5275kXisD"
      },
      "source": [
        "## Visualization"
      ]
    },
    {
      "cell_type": "code",
      "execution_count": 8,
      "id": "P4SXUez1iv1_",
      "metadata": {
        "colab": {
          "base_uri": "https://localhost:8080/",
          "height": 472
        },
        "id": "P4SXUez1iv1_",
        "outputId": "814bd4b0-f48f-4655-ee5e-b8a51e32260a"
      },
      "outputs": [
        {
          "data": {
            "image/png": "[encoded data removed]",
            "text/plain": [
              "<Figure size 640x480 with 1 Axes>"
            ]
          },
          "metadata": {},
          "output_type": "display_data"
        }
      ],
      "source": [
        "plt.plot(losses)\n",
        "plt.title(\"Training Loss Over Time\")\n",
        "plt.xlabel(\"Epoch\")\n",
        "plt.ylabel(\"MSE Loss\")\n",
        "plt.grid(True)\n",
        "plt.show()"
      ]
    },
    {
      "cell_type": "code",
      "execution_count": 9,
      "id": "TPLYePH4iwy1",
      "metadata": {
        "colab": {
          "base_uri": "https://localhost:8080/"
        },
        "id": "TPLYePH4iwy1",
        "outputId": "a2ef60b6-2ca0-44cf-ca94-28f6a4a6b08d"
      },
      "outputs": [
        {
          "name": "stdout",
          "output_type": "stream",
          "text": [
            "\n",
            "Target weight : 3.0 | Learned weight: w = 2.9764\n",
            "Target bias : -2.0 | Learned bias:   b = -1.9328\n",
            "\n",
            "\n",
            "Compare with the true target function y = 3x - 2\n",
            "\n",
            "Given x = 2\n",
            "True y = 4.0000\n",
            "Predicted y = 4.0201\n"
          ]
        }
      ],
      "source": [
        "# Final learned weight and bias\n",
        "print(f\"\\nTarget weight : 3.0 | Learned weight: w = {w:.4f}\")\n",
        "print(f\"Target bias : -2.0 | Learned bias:   b = {b:.4f}\")\n",
        "\n",
        "print(f\"\\n\\nCompare with the true target function y = 3x - 2\")\n",
        "x_check = 2\n",
        "y_target_check = 3 * x_check - 2\n",
        "y_pred_check = w * x_check + b\n",
        "\n",
        "print(f\"\\nGiven x = {x_check}\")\n",
        "print(f\"True y = {y_target_check:.4f}\")\n",
        "print(f\"Predicted y = {y_pred_check:.4f}\")"
      ]
    },
    {
      "cell_type": "markdown",
      "id": "rDtSXx5YqJEY",
      "metadata": {
        "id": "rDtSXx5YqJEY"
      },
      "source": [
        "## Conclusion\n",
        "\n",
        "In this implementation, I had shown the concept of backpropagation using a mini neural network to learn the function **y = 3x − 2**.\n",
        "\n",
        "We can see that even with just one weight and one bias, the network was able to reduce the error and produce accurate predictions, showing the power of backpropagation in its simplest form.\n",
        "\n",
        "Through the training loop, the model:\n",
        "- Performed a **forward pass** to make predictions\n",
        "- Calculated **loss** using Mean Squared Error (MSE)\n",
        "- Applied **backpropagation** to compute gradients\n",
        "- Used **gradient descent** to update the weight and bias\n",
        "\n",
        "At the end of training, the learned weight and bias closely matched to the target values of **w ≈ 3 and b ≈ -2**. This shows how backpropagation enables learning in neural networks."
      ]
    },
    {
      "cell_type": "markdown",
      "id": "hGrTUJfZ8Ogu",
      "metadata": {
        "id": "hGrTUJfZ8Ogu"
      },
      "source": [
        "\n",
        "\n",
        "---\n",
        "\n"
      ]
    },
    {
      "cell_type": "markdown",
      "id": "N7z-n-tt8MyW",
      "metadata": {
        "id": "N7z-n-tt8MyW"
      },
      "source": [
        "### Real-World Perspective\n",
        "\n",
        "In real-world deep learning applications, such as:\n",
        "- Image recognition (classifying butterflies)\n",
        "- Natural language processing (chatbots/translation)\n",
        "- Medical diagnosis (detect tumors from scans)\n",
        "\n",
        "the same concept apply but at a larger scale. Those models will have millions or billions of parameters, structured in complex architectures. For example,\n",
        "- Deep feedforward networks\n",
        "- Convolutional Neural Networks (CNNs) for image data\n",
        "- Recurrent Neural Networks (RNNs) or Transformers for sequence data\n",
        "\n",
        "But still, at the core, every single weight in these large models is updated using the backpropagation concept, just like in this tiny one-neuron example.\n",
        "\n",
        "This simple exercise shows that, if a single neuron can learn a linear rule using backpropagation, so then a deep network can learn complex patterns, by stacking and training many neurons together."
      ]
    }
  ],
  "metadata": {
    "colab": {
      "provenance": []
    },
    "kernelspec": {
      "display_name": "Python 3",
      "name": "python3"
    },
    "language_info": {
      "name": "python"
    }
  },
  "nbformat": 4,
  "nbformat_minor": 5
}
